{
 "cells": [
  {
   "cell_type": "code",
   "execution_count": 1,
   "id": "ccbf61c5",
   "metadata": {},
   "outputs": [],
   "source": [
    "import numpy as np\n",
    "import pandas as pd\n",
    "from sklearn.model_selection import train_test_split\n",
    "from sklearn.naive_bayes import GaussianNB\n",
    "from sklearn.metrics import accuracy_score"
   ]
  },
  {
   "cell_type": "code",
   "execution_count": null,
   "id": "6d3e754b",
   "metadata": {},
   "outputs": [],
   "source": [
    "data=pd.read_csv(\"Data_dict.csv\")"
   ]
  },
  {
   "cell_type": "code",
   "execution_count": 3,
   "id": "54a699db",
   "metadata": {},
   "outputs": [
    {
     "data": {
      "text/plain": [
       "country            0\n",
       "state              0\n",
       "city               0\n",
       "station            0\n",
       "last_update        0\n",
       "latitude           0\n",
       "longitude          0\n",
       "pollutant_id       0\n",
       "pollutant_min    233\n",
       "pollutant_max    233\n",
       "pollutant_avg    233\n",
       "dtype: int64"
      ]
     },
     "execution_count": 3,
     "metadata": {},
     "output_type": "execute_result"
    }
   ],
   "source": [
    "data.isna().sum()"
   ]
  },
  {
   "cell_type": "code",
   "execution_count": 4,
   "id": "7124ec9c",
   "metadata": {},
   "outputs": [
    {
     "data": {
      "text/plain": [
       "country          0\n",
       "state            0\n",
       "city             0\n",
       "station          0\n",
       "last_update      0\n",
       "latitude         0\n",
       "longitude        0\n",
       "pollutant_id     0\n",
       "pollutant_min    0\n",
       "pollutant_max    0\n",
       "pollutant_avg    0\n",
       "dtype: int64"
      ]
     },
     "execution_count": 4,
     "metadata": {},
     "output_type": "execute_result"
    }
   ],
   "source": [
    "data.dropna(inplace=True)\n",
    "data.isna().sum()"
   ]
  },
  {
   "cell_type": "code",
   "execution_count": 5,
   "id": "10dfc75c",
   "metadata": {},
   "outputs": [],
   "source": [
    "data.drop(data[data['pollutant_id']!='PM10'].index,inplace=True)"
   ]
  },
  {
   "cell_type": "code",
   "execution_count": 6,
   "id": "abf18474",
   "metadata": {},
   "outputs": [],
   "source": [
    "df = data.groupby(['city', 'pollutant_id']).agg({'pollutant_min': 'min', 'pollutant_max': 'min'})\n",
    "df['pollutant_avg'] = (df['pollutant_max'] + df['pollutant_min']) / 2"
   ]
  },
  {
   "cell_type": "code",
   "execution_count": 7,
   "id": "5cea45c7",
   "metadata": {},
   "outputs": [
    {
     "data": {
      "text/html": [
       "<div>\n",
       "<style scoped>\n",
       "    .dataframe tbody tr th:only-of-type {\n",
       "        vertical-align: middle;\n",
       "    }\n",
       "\n",
       "    .dataframe tbody tr th {\n",
       "        vertical-align: top;\n",
       "    }\n",
       "\n",
       "    .dataframe thead th {\n",
       "        text-align: right;\n",
       "    }\n",
       "</style>\n",
       "<table border=\"1\" class=\"dataframe\">\n",
       "  <thead>\n",
       "    <tr style=\"text-align: right;\">\n",
       "      <th></th>\n",
       "      <th></th>\n",
       "      <th>pollutant_min</th>\n",
       "      <th>pollutant_max</th>\n",
       "      <th>pollutant_avg</th>\n",
       "    </tr>\n",
       "    <tr>\n",
       "      <th>city</th>\n",
       "      <th>pollutant_id</th>\n",
       "      <th></th>\n",
       "      <th></th>\n",
       "      <th></th>\n",
       "    </tr>\n",
       "  </thead>\n",
       "  <tbody>\n",
       "    <tr>\n",
       "      <th>Agartala</th>\n",
       "      <th>PM10</th>\n",
       "      <td>70.0</td>\n",
       "      <td>118.0</td>\n",
       "      <td>94.0</td>\n",
       "    </tr>\n",
       "    <tr>\n",
       "      <th>Agra</th>\n",
       "      <th>PM10</th>\n",
       "      <td>12.0</td>\n",
       "      <td>70.0</td>\n",
       "      <td>41.0</td>\n",
       "    </tr>\n",
       "    <tr>\n",
       "      <th>Ahmedabad</th>\n",
       "      <th>PM10</th>\n",
       "      <td>27.0</td>\n",
       "      <td>101.0</td>\n",
       "      <td>64.0</td>\n",
       "    </tr>\n",
       "    <tr>\n",
       "      <th>Ahmednagar</th>\n",
       "      <th>PM10</th>\n",
       "      <td>44.0</td>\n",
       "      <td>231.0</td>\n",
       "      <td>137.5</td>\n",
       "    </tr>\n",
       "    <tr>\n",
       "      <th>Aizawl</th>\n",
       "      <th>PM10</th>\n",
       "      <td>54.0</td>\n",
       "      <td>94.0</td>\n",
       "      <td>74.0</td>\n",
       "    </tr>\n",
       "    <tr>\n",
       "      <th>...</th>\n",
       "      <th>...</th>\n",
       "      <td>...</td>\n",
       "      <td>...</td>\n",
       "      <td>...</td>\n",
       "    </tr>\n",
       "    <tr>\n",
       "      <th>Virar</th>\n",
       "      <th>PM10</th>\n",
       "      <td>43.0</td>\n",
       "      <td>98.0</td>\n",
       "      <td>70.5</td>\n",
       "    </tr>\n",
       "    <tr>\n",
       "      <th>Visakhapatnam</th>\n",
       "      <th>PM10</th>\n",
       "      <td>62.0</td>\n",
       "      <td>136.0</td>\n",
       "      <td>99.0</td>\n",
       "    </tr>\n",
       "    <tr>\n",
       "      <th>Vrindavan</th>\n",
       "      <th>PM10</th>\n",
       "      <td>61.0</td>\n",
       "      <td>408.0</td>\n",
       "      <td>234.5</td>\n",
       "    </tr>\n",
       "    <tr>\n",
       "      <th>Yadgir</th>\n",
       "      <th>PM10</th>\n",
       "      <td>38.0</td>\n",
       "      <td>88.0</td>\n",
       "      <td>63.0</td>\n",
       "    </tr>\n",
       "    <tr>\n",
       "      <th>Yamuna Nagar</th>\n",
       "      <th>PM10</th>\n",
       "      <td>80.0</td>\n",
       "      <td>107.0</td>\n",
       "      <td>93.5</td>\n",
       "    </tr>\n",
       "  </tbody>\n",
       "</table>\n",
       "<p>228 rows × 3 columns</p>\n",
       "</div>"
      ],
      "text/plain": [
       "                            pollutant_min  pollutant_max  pollutant_avg\n",
       "city          pollutant_id                                             \n",
       "Agartala      PM10                   70.0          118.0           94.0\n",
       "Agra          PM10                   12.0           70.0           41.0\n",
       "Ahmedabad     PM10                   27.0          101.0           64.0\n",
       "Ahmednagar    PM10                   44.0          231.0          137.5\n",
       "Aizawl        PM10                   54.0           94.0           74.0\n",
       "...                                   ...            ...            ...\n",
       "Virar         PM10                   43.0           98.0           70.5\n",
       "Visakhapatnam PM10                   62.0          136.0           99.0\n",
       "Vrindavan     PM10                   61.0          408.0          234.5\n",
       "Yadgir        PM10                   38.0           88.0           63.0\n",
       "Yamuna Nagar  PM10                   80.0          107.0           93.5\n",
       "\n",
       "[228 rows x 3 columns]"
      ]
     },
     "execution_count": 7,
     "metadata": {},
     "output_type": "execute_result"
    }
   ],
   "source": [
    "df"
   ]
  },
  {
   "cell_type": "code",
   "execution_count": 8,
   "id": "6899506e",
   "metadata": {},
   "outputs": [],
   "source": [
    "bins = [0, 54, 154, 254, 354, np.inf]\n",
    "categories = ['very healthy', 'healthy', 'moderate', 'unhealthy', 'very unhealthy']"
   ]
  },
  {
   "cell_type": "code",
   "execution_count": 9,
   "id": "33893fd9",
   "metadata": {},
   "outputs": [],
   "source": [
    "df['pollutant_level'] = pd.cut(df['pollutant_avg'], bins=bins, labels=categories, right=False)"
   ]
  },
  {
   "cell_type": "code",
   "execution_count": 10,
   "id": "6e94d14c",
   "metadata": {},
   "outputs": [
    {
     "data": {
      "text/html": [
       "<div>\n",
       "<style scoped>\n",
       "    .dataframe tbody tr th:only-of-type {\n",
       "        vertical-align: middle;\n",
       "    }\n",
       "\n",
       "    .dataframe tbody tr th {\n",
       "        vertical-align: top;\n",
       "    }\n",
       "\n",
       "    .dataframe thead th {\n",
       "        text-align: right;\n",
       "    }\n",
       "</style>\n",
       "<table border=\"1\" class=\"dataframe\">\n",
       "  <thead>\n",
       "    <tr style=\"text-align: right;\">\n",
       "      <th></th>\n",
       "      <th></th>\n",
       "      <th>pollutant_min</th>\n",
       "      <th>pollutant_max</th>\n",
       "      <th>pollutant_avg</th>\n",
       "      <th>pollutant_level</th>\n",
       "    </tr>\n",
       "    <tr>\n",
       "      <th>city</th>\n",
       "      <th>pollutant_id</th>\n",
       "      <th></th>\n",
       "      <th></th>\n",
       "      <th></th>\n",
       "      <th></th>\n",
       "    </tr>\n",
       "  </thead>\n",
       "  <tbody>\n",
       "    <tr>\n",
       "      <th>Agartala</th>\n",
       "      <th>PM10</th>\n",
       "      <td>70.0</td>\n",
       "      <td>118.0</td>\n",
       "      <td>94.0</td>\n",
       "      <td>healthy</td>\n",
       "    </tr>\n",
       "    <tr>\n",
       "      <th>Agra</th>\n",
       "      <th>PM10</th>\n",
       "      <td>12.0</td>\n",
       "      <td>70.0</td>\n",
       "      <td>41.0</td>\n",
       "      <td>very healthy</td>\n",
       "    </tr>\n",
       "    <tr>\n",
       "      <th>Ahmedabad</th>\n",
       "      <th>PM10</th>\n",
       "      <td>27.0</td>\n",
       "      <td>101.0</td>\n",
       "      <td>64.0</td>\n",
       "      <td>healthy</td>\n",
       "    </tr>\n",
       "    <tr>\n",
       "      <th>Ahmednagar</th>\n",
       "      <th>PM10</th>\n",
       "      <td>44.0</td>\n",
       "      <td>231.0</td>\n",
       "      <td>137.5</td>\n",
       "      <td>healthy</td>\n",
       "    </tr>\n",
       "    <tr>\n",
       "      <th>Aizawl</th>\n",
       "      <th>PM10</th>\n",
       "      <td>54.0</td>\n",
       "      <td>94.0</td>\n",
       "      <td>74.0</td>\n",
       "      <td>healthy</td>\n",
       "    </tr>\n",
       "    <tr>\n",
       "      <th>...</th>\n",
       "      <th>...</th>\n",
       "      <td>...</td>\n",
       "      <td>...</td>\n",
       "      <td>...</td>\n",
       "      <td>...</td>\n",
       "    </tr>\n",
       "    <tr>\n",
       "      <th>Virar</th>\n",
       "      <th>PM10</th>\n",
       "      <td>43.0</td>\n",
       "      <td>98.0</td>\n",
       "      <td>70.5</td>\n",
       "      <td>healthy</td>\n",
       "    </tr>\n",
       "    <tr>\n",
       "      <th>Visakhapatnam</th>\n",
       "      <th>PM10</th>\n",
       "      <td>62.0</td>\n",
       "      <td>136.0</td>\n",
       "      <td>99.0</td>\n",
       "      <td>healthy</td>\n",
       "    </tr>\n",
       "    <tr>\n",
       "      <th>Vrindavan</th>\n",
       "      <th>PM10</th>\n",
       "      <td>61.0</td>\n",
       "      <td>408.0</td>\n",
       "      <td>234.5</td>\n",
       "      <td>moderate</td>\n",
       "    </tr>\n",
       "    <tr>\n",
       "      <th>Yadgir</th>\n",
       "      <th>PM10</th>\n",
       "      <td>38.0</td>\n",
       "      <td>88.0</td>\n",
       "      <td>63.0</td>\n",
       "      <td>healthy</td>\n",
       "    </tr>\n",
       "    <tr>\n",
       "      <th>Yamuna Nagar</th>\n",
       "      <th>PM10</th>\n",
       "      <td>80.0</td>\n",
       "      <td>107.0</td>\n",
       "      <td>93.5</td>\n",
       "      <td>healthy</td>\n",
       "    </tr>\n",
       "  </tbody>\n",
       "</table>\n",
       "<p>228 rows × 4 columns</p>\n",
       "</div>"
      ],
      "text/plain": [
       "                            pollutant_min  pollutant_max  pollutant_avg  \\\n",
       "city          pollutant_id                                                \n",
       "Agartala      PM10                   70.0          118.0           94.0   \n",
       "Agra          PM10                   12.0           70.0           41.0   \n",
       "Ahmedabad     PM10                   27.0          101.0           64.0   \n",
       "Ahmednagar    PM10                   44.0          231.0          137.5   \n",
       "Aizawl        PM10                   54.0           94.0           74.0   \n",
       "...                                   ...            ...            ...   \n",
       "Virar         PM10                   43.0           98.0           70.5   \n",
       "Visakhapatnam PM10                   62.0          136.0           99.0   \n",
       "Vrindavan     PM10                   61.0          408.0          234.5   \n",
       "Yadgir        PM10                   38.0           88.0           63.0   \n",
       "Yamuna Nagar  PM10                   80.0          107.0           93.5   \n",
       "\n",
       "                           pollutant_level  \n",
       "city          pollutant_id                  \n",
       "Agartala      PM10                 healthy  \n",
       "Agra          PM10            very healthy  \n",
       "Ahmedabad     PM10                 healthy  \n",
       "Ahmednagar    PM10                 healthy  \n",
       "Aizawl        PM10                 healthy  \n",
       "...                                    ...  \n",
       "Virar         PM10                 healthy  \n",
       "Visakhapatnam PM10                 healthy  \n",
       "Vrindavan     PM10                moderate  \n",
       "Yadgir        PM10                 healthy  \n",
       "Yamuna Nagar  PM10                 healthy  \n",
       "\n",
       "[228 rows x 4 columns]"
      ]
     },
     "execution_count": 10,
     "metadata": {},
     "output_type": "execute_result"
    }
   ],
   "source": [
    "df"
   ]
  },
  {
   "cell_type": "code",
   "execution_count": 11,
   "id": "c0e84b1f",
   "metadata": {},
   "outputs": [],
   "source": [
    "X = df[['pollutant_min', 'pollutant_max', 'pollutant_avg']]\n",
    "y = df['pollutant_level']"
   ]
  },
  {
   "cell_type": "code",
   "execution_count": 12,
   "id": "39c0508d",
   "metadata": {},
   "outputs": [
    {
     "name": "stdout",
     "output_type": "stream",
     "text": [
      "Accuracy: 0.9565217391304348\n"
     ]
    }
   ],
   "source": [
    "X_train, X_test, y_train, y_test = train_test_split(X, y, test_size=0.2, random_state=42)\n",
    "\n",
    "nb_classifier = GaussianNB()\n",
    "nb_classifier.fit(X_train, y_train)\n",
    "\n",
    "y_pred = nb_classifier.predict(X_test)\n",
    "\n",
    "accuracy = accuracy_score(y_test, y_pred)\n",
    "print(\"Accuracy:\", accuracy)"
   ]
  },
  {
   "cell_type": "code",
   "execution_count": null,
   "id": "5ef8cca2",
   "metadata": {},
   "outputs": [],
   "source": []
  }
 ],
 "metadata": {
  "kernelspec": {
   "display_name": "Python 3 (ipykernel)",
   "language": "python",
   "name": "python3"
  },
  "language_info": {
   "codemirror_mode": {
    "name": "ipython",
    "version": 3
   },
   "file_extension": ".py",
   "mimetype": "text/x-python",
   "name": "python",
   "nbconvert_exporter": "python",
   "pygments_lexer": "ipython3",
   "version": "3.11.5"
  }
 },
 "nbformat": 4,
 "nbformat_minor": 5
}
